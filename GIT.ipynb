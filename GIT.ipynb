{
 "cells": [
  {
   "cell_type": "markdown",
   "metadata": {},
   "source": [
    "# Universidad Galileo\n",
    "# Maestría en Ciencia de Datos"
   ]
  },
  {
   "cell_type": "markdown",
   "metadata": {},
   "source": [
    "-------------------------------------------"
   ]
  },
  {
   "cell_type": "markdown",
   "metadata": {},
   "source": [
    "## **Jupyter Notebooks, Markdown y Git**"
   ]
  },
  {
   "cell_type": "markdown",
   "metadata": {},
   "source": [
    "### *Practicando Markdown y Git*"
   ]
  },
  {
   "cell_type": "markdown",
   "metadata": {},
   "source": [
    "<img src=\"GIT.JPG\">"
   ]
  },
  {
   "cell_type": "markdown",
   "metadata": {},
   "source": [
    "#### GIT"
   ]
  },
  {
   "cell_type": "markdown",
   "metadata": {},
   "source": [
    "GIT, es una un sistema de Control de Versiones que permite realizar un seguimiento de los cambios realizados en el código fuente por cada uno de los desarrolladores, facilitando la colaboración y el desempeño del trabajo. Podemos encontrar muchos beneficios al momento de utilizar este tipo de sistemas, dentro de algunos de ellos, podemos obtener respuestas a preguntas como:"
   ]
  },
  {
   "cell_type": "markdown",
   "metadata": {},
   "source": [
    "* ¿Quién escribió este módulo?\n",
    "* ¿Cuándo se editó esta línea en particular de este archivo en particular? ¿Por quién? ¿Por qué fue editado?\n",
    "* Durante las últimas 1000 revisiones, ¿cuándo / por qué dejó de funcionar una prueba unitaria en particular?\n",
    "* Si bien existen otros VCS, Git es el estándar de facto para el control de versiones"
   ]
  },
  {
   "cell_type": "markdown",
   "metadata": {},
   "source": [
    "La interfaz puede resultar un poco confusa derivado a que es necesario utilizar diversos comandos mediante la consola de GIT, al principio puede resultar dificultoso, pero con el transcurrir del tiempo y la práctica, se convertira en una práctica normal."
   ]
  },
  {
   "cell_type": "markdown",
   "metadata": {},
   "source": [
    "#### Modelo de Datos"
   ]
  },
  {
   "cell_type": "markdown",
   "metadata": {},
   "source": [
    "El modelo de datos GIT está preparado como mantener el historial, dar soporte a las ramas y permitir la colaboración."
   ]
  },
  {
   "cell_type": "markdown",
   "metadata": {},
   "source": [
    "#### Snapshot"
   ]
  },
  {
   "cell_type": "markdown",
   "metadata": {},
   "source": [
    "Permite modelar el historial de una colección de archivos y carpetas dentro de algún directorio de nivel superior como una serie de instantáneas. Cada instantánea en Git se refiere a un conjunto de \"padres\", las instantáneas que la precedieron, estas instántaneas son llamadas \"confirmaciones\"."
   ]
  },
  {
   "cell_type": "markdown",
   "metadata": {},
   "source": [
    "#### Objetos y direccionamiento de contenido"
   ]
  },
  {
   "cell_type": "markdown",
   "metadata": {},
   "source": [
    "Para la comprensión de documentos extensos, utiliza el algoritmo **SHA-1 hash**"
   ]
  },
  {
   "cell_type": "markdown",
   "metadata": {},
   "source": [
    "#### StaginArea"
   ]
  },
  {
   "cell_type": "markdown",
   "metadata": {},
   "source": [
    "Esta es al área de transformación, acá se realizan todos los cambios y hasta estar complementamente seguros que los mismos son los adecuados, se trasladan al área de Productivo."
   ]
  },
  {
   "cell_type": "markdown",
   "metadata": {},
   "source": [
    "#### Comandos Básicos GIT"
   ]
  },
  {
   "cell_type": "markdown",
   "metadata": {},
   "source": [
    "**FILE** | **SYSTEM**\n",
    "--- | --- |\n",
    "GIT INIT | GIT CLONE |\n",
    "GIT ADD | GIT CONFIG |\n",
    "GIT LOG | GIT STATUS |\n",
    "GIT RESET | GIT DIFF |"
   ]
  },
  {
   "cell_type": "markdown",
   "metadata": {},
   "source": [
    "### **Algunos términos de GIT**"
   ]
  },
  {
   "cell_type": "markdown",
   "metadata": {},
   "source": [
    "1. Repository/Repo:Base de datos en la cual se almacena el historial del Código.\n",
    "2. Commit: Registro de uno o varios cambios realizados en el repositorio.\n",
    "3. Stage:Lista de archivos que utilizarán para un commit\n",
    "4. Fork: Realiza la copia de un repositorio\n",
    "5. Branch/Rama: Espacio de trabajo independiente\n",
    "6. Master: Rama principal de un repositorio\n",
    "7. CheckOut: Permite moverse entre diferentes ramas\n",
    "8. Merge: Combina dos o varias ramas en una\n"
   ]
  },
  {
   "cell_type": "markdown",
   "metadata": {},
   "source": [
    "[Más información acerca de GIT... ](https://missing.csail.mit.edu/2020/version-control/)"
   ]
  },
  {
   "cell_type": "markdown",
   "metadata": {},
   "source": [
    "### **Conclusiones**"
   ]
  },
  {
   "cell_type": "markdown",
   "metadata": {},
   "source": [
    "GIT es un sistema de control de versiones muy potente que permite llevar un excelente control de versiones de los diferentes proyectos de programación. Eficientiza el trabajo del equipo de desarrolladores, mantiene la seguridad de los programas principales y no se realiza ninguna publicación a productivo, hasta el momento de estar seguros que las nueva modificaciones o agregaciones, se encuentran correctas en el StaginArea.\n",
    "\n",
    "Funciona como un área de colaboración, mantiene el historial de versiones para determinar los cambios realizados en el tiempo y permite identificar quién realizó determinada tarea.\n"
   ]
  },
  {
   "cell_type": "code",
   "execution_count": 8,
   "metadata": {},
   "outputs": [
    {
     "data": {
      "text/html": [
       "<font size=6 color='blue'>Guatemala, 14 febrero 2021</font>\n"
      ],
      "text/plain": [
       "<IPython.core.display.HTML object>"
      ]
     },
     "metadata": {},
     "output_type": "display_data"
    }
   ],
   "source": [
    "%%html\n",
    "<font size=6 color='blue'>Guatemala, 14 febrero 2021</font>"
   ]
  }
 ],
 "metadata": {
  "kernelspec": {
   "display_name": "Python 3",
   "language": "python",
   "name": "python3"
  },
  "language_info": {
   "codemirror_mode": {
    "name": "ipython",
    "version": 3
   },
   "file_extension": ".py",
   "mimetype": "text/x-python",
   "name": "python",
   "nbconvert_exporter": "python",
   "pygments_lexer": "ipython3",
   "version": "3.8.5"
  }
 },
 "nbformat": 4,
 "nbformat_minor": 4
}

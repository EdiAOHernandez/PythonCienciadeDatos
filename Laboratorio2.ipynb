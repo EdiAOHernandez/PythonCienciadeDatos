{
 "cells": [
  {
   "cell_type": "markdown",
   "metadata": {},
   "source": [
    "# Ciencia de Datos en Python"
   ]
  },
  {
   "cell_type": "markdown",
   "metadata": {},
   "source": [
    "## Hoja de Trabajo # 2 - Sintaxis, Listas y Tuplas"
   ]
  },
  {
   "cell_type": "markdown",
   "metadata": {},
   "source": [
    "-------------"
   ]
  },
  {
   "cell_type": "markdown",
   "metadata": {},
   "source": [
    "### Parte # 1 (Programación y Sintaxis):"
   ]
  },
  {
   "cell_type": "markdown",
   "metadata": {},
   "source": [
    "#### 1. Haga un programa en Python que reciba de parámetro un número de segundos y que despliegue en pantalla, las horas, minutos y segundos que representan."
   ]
  },
  {
   "cell_type": "markdown",
   "metadata": {},
   "source": [
    "* Si el número de segundos recibidos fuera: 2743 entonces su programa debera desplegar: Horas: 0, Minutos: 45 , Segundos: 43\n",
    "* Si el número de segundos recibidos fuera 5871: Horas: 1, Minutos: 37 , Segundos: 51"
   ]
  },
  {
   "cell_type": "code",
   "execution_count": 15,
   "metadata": {},
   "outputs": [
    {
     "name": "stdin",
     "output_type": "stream",
     "text": [
      "Ingrese un valor numérico en Segundos:  1\n"
     ]
    },
    {
     "name": "stdout",
     "output_type": "stream",
     "text": [
      "Total Horas: 0 ,  Total Minutos: 0 , Total Segundos:  1\n"
     ]
    }
   ],
   "source": [
    "try:\n",
    "    NumeroSegundos = int(input(\"Ingrese un valor numérico en Segundos: \"))\n",
    "    VarSegundos = NumeroSegundos % 60\n",
    "    VarMinutostmp = NumeroSegundos // 60\n",
    "    VarMinutos = VarMinutostmp % 60\n",
    "    VarHoras = VarMinutostmp // 60\n",
    "    print(\"Horas:\",VarHoras,\",\",\" Minutos:\",VarMinutos,\",\",\" Segundos: \",VarSegundos)\n",
    "except ValueError as Mensaje:\n",
    "    print(\"El formato ingresado no es correcto.\")\n",
    "except Exception as Mensaje:\n",
    "    print(type(Mensaje))"
   ]
  },
  {
   "cell_type": "markdown",
   "metadata": {},
   "source": [
    "#### 2. Haga una función en Python que dado un núumero entre 1 y 20. Y un carácter cualquiera despliegue cuatro patrones triangulares."
   ]
  },
  {
   "cell_type": "code",
   "execution_count": 19,
   "metadata": {},
   "outputs": [
    {
     "name": "stdin",
     "output_type": "stream",
     "text": [
      "Ingrese un valor numérico en un rango de 1 y 20 20\n"
     ]
    },
    {
     "name": "stdout",
     "output_type": "stream",
     "text": [
      "*                       ********************                       ********************                       *\n",
      "**                       *******************                       *******************                       **\n",
      "***                       ******************                       ******************                       ***\n",
      "****                       *****************                       *****************                       ****\n",
      "*****                       ****************                       ****************                       *****\n",
      "******                       ***************                       ***************                       ******\n",
      "*******                       **************                       **************                       *******\n",
      "********                       *************                       *************                       ********\n",
      "*********                       ************                       ************                       *********\n",
      "**********                       ***********                       ***********                       **********\n",
      "***********                       **********                       **********                       ***********\n",
      "************                       *********                       *********                       ************\n",
      "*************                       ********                       ********                       *************\n",
      "**************                       *******                       *******                       **************\n",
      "***************                       ******                       ******                       ***************\n",
      "****************                       *****                       *****                       ****************\n",
      "*****************                       ****                       ****                       *****************\n",
      "******************                       ***                       ***                       ******************\n",
      "*******************                       **                       **                       *******************\n",
      "********************                       *                       *                       ********************\n"
     ]
    }
   ],
   "source": [
    "try:\n",
    "    VarNumero = int(input(\"Ingrese un valor numérico en un rango de 1 y 20\"))\n",
    "    if (VarNumero<=20):\n",
    "        for i in range(VarNumero):\n",
    "            print(\"*\" * (i+1),\" \"*(VarNumero+1),\"*\"*(VarNumero-i), \" \" * (VarNumero+1), \"*\" * (VarNumero-i), \" \" * (VarNumero+1), \"*\" * (i+1))\n",
    "    else:\n",
    "        print(\"El valor numérico digitado, se encuentra fuera del límite establecido.\")\n",
    "except ValueError as Mensaje:\n",
    "    print(\"El formato ingresado no es correcto.\")\n",
    "except Exception as Mensaje:\n",
    "    print(type(Mensaje))"
   ]
  },
  {
   "cell_type": "markdown",
   "metadata": {},
   "source": [
    "#### 2. Haga un programa en Python que la fecha de nacimiento de una persona (puede ingresar por separado cada valor, es decir pedir primero día, luego mes y luego año), despliegue la edad de la persona en años, meses y días. Su resultado puede ser aproximado."
   ]
  },
  {
   "cell_type": "code",
   "execution_count": 94,
   "metadata": {},
   "outputs": [
    {
     "name": "stdin",
     "output_type": "stream",
     "text": [
      "Ingrese su fecha de Nacimiento date (dd/mm/yyyy)\n",
      ">>>  16/10/1972\n"
     ]
    },
    {
     "name": "stdout",
     "output_type": "stream",
     "text": [
      "Su Edad es: 48\n"
     ]
    }
   ],
   "source": [
    "import datetime\n",
    "\n",
    "#Ingresando Fecha de Nacimiento\n",
    "FechaDate = input(\"Ingrese su fecha de Nacimiento date (dd/mm/yyyy)\\n>>> \")\n",
    "FechaDate = datetime.datetime.strptime(FechaDate, \"%d/%m/%Y\").date()\n",
    "\n",
    "currentDate = datetime.datetime.today().date()\n",
    "\n",
    "#Cálculos \n",
    "vedad = currentDate.year - FechaDate.year\n",
    "vmes = currentDate.month - FechaDate.month\n",
    "vfecha = currentDate.day - FechaDate.day\n",
    "\n",
    "#Conversión\n",
    "vedad = int(vedad)\n",
    "vmes = int(vmes)\n",
    "vfecha = int(vfecha)\n",
    "\n",
    "#Determina edad\n",
    "if vmes < 0 :\n",
    "    vedad = vedad-1\n",
    "elif vfecha < 0 and vmes == 0:\n",
    "    vedad = vedad-1\n",
    "\n",
    "\n",
    "#lets print the age now\n",
    "print(\"Su edad en años es: {0:d}\".format(vedad))"
   ]
  },
  {
   "cell_type": "markdown",
   "metadata": {},
   "source": [
    "### Parte # 2 (Estructuras de Datos):"
   ]
  },
  {
   "cell_type": "markdown",
   "metadata": {},
   "source": [
    "#### 1. Escriba una función en Python que dada una tupla de elementos (numeros o letras) esta se convierta a un string"
   ]
  },
  {
   "cell_type": "code",
   "execution_count": 25,
   "metadata": {},
   "outputs": [
    {
     "data": {
      "text/plain": [
       "'01020304050Año 2021TruePythonDataScienceFalseGuatemala'"
      ]
     },
     "execution_count": 25,
     "metadata": {},
     "output_type": "execute_result"
    }
   ],
   "source": [
    "VarToString = [0,10,20,30,40,50, 'Año 2021', True, 'Python', 'Ciencia de Datos',False, 'Guatemala']\n",
    "\"\".join([str(_) for _ in VarToString])"
   ]
  },
  {
   "cell_type": "markdown",
   "metadata": {},
   "source": [
    "#### 2. Cree un programa en Python que dada una lista de tuplas, elimine las tuplas que están vacías."
   ]
  },
  {
   "cell_type": "code",
   "execution_count": 88,
   "metadata": {},
   "outputs": [
    {
     "name": "stdout",
     "output_type": "stream",
     "text": [
      "[(1, 2), (5,), (), (9, 8, 7), (1,), (), (), 'Guatemala']\n",
      "Total con espacios:  8\n",
      "\n",
      "[(1, 2), (5,), (9, 8, 7), (1,), 'Guatemala']\n",
      "Total Sin espacios:  5\n"
     ]
    }
   ],
   "source": [
    "ListTuplas=[(1,2),(5,),(),(9,8,7),(1,),(),(),'Guatemala']\n",
    "print(ListTuplas)\n",
    "print('Total con espacios: ',len(ListTuplas))\n",
    "print()\n",
    "ListTuplas=[t for t in ListTuplas if t]\n",
    "print(ListTuplas)\n",
    "print('Total Sin espacios: ',len(ListTuplas))"
   ]
  },
  {
   "cell_type": "markdown",
   "metadata": {},
   "source": [
    "#### 3. Cree una función en Python que dada una tupla de tuplas con numeros, produzca una tupla con el promedio de cada tupla individual"
   ]
  },
  {
   "cell_type": "code",
   "execution_count": 97,
   "metadata": {},
   "outputs": [
    {
     "name": "stdout",
     "output_type": "stream",
     "text": [
      "Tupla Original: \n",
      "((10, 10, 10, 12), (30, 45, 56, 45), (81, 80, 39, 32))\n",
      "Promedios [10.5, 44.0, 58.0]\n"
     ]
    }
   ],
   "source": [
    "def promedio_tuplas(nums):\n",
    "    result = [sum(x) / len(x) for x in (nums)]\n",
    "    return result\n",
    "\n",
    "nums =  ((10, 10, 10, 12), (30, 45, 56, 45), (81, 80, 39, 32))\n",
    "print (\"Tupla Original: \")\n",
    "print(nums)\n",
    "print(\"Promedios\",promedio_tuplas(nums))"
   ]
  },
  {
   "cell_type": "code",
   "execution_count": null,
   "metadata": {},
   "outputs": [],
   "source": []
  }
 ],
 "metadata": {
  "kernelspec": {
   "display_name": "Python 3",
   "language": "python",
   "name": "python3"
  },
  "language_info": {
   "codemirror_mode": {
    "name": "ipython",
    "version": 3
   },
   "file_extension": ".py",
   "mimetype": "text/x-python",
   "name": "python",
   "nbconvert_exporter": "python",
   "pygments_lexer": "ipython3",
   "version": "3.8.5"
  }
 },
 "nbformat": 4,
 "nbformat_minor": 4
}

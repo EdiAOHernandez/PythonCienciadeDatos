{
 "cells": [
  {
   "cell_type": "markdown",
   "metadata": {},
   "source": [
    "# Ciencia de Datos en Python\n",
    "## Hoja de Trabajo # 3\n",
    "### Diccionarios, Sets y Programacion Orientada a Objetos"
   ]
  },
  {
   "cell_type": "markdown",
   "metadata": {},
   "source": [
    "#### Entregable: Su entregable deber´a ser un link al repositorio de git que contiene el Jupyter Notebook donde resolvío los ejercicios planteados."
   ]
  },
  {
   "cell_type": "markdown",
   "metadata": {},
   "source": [
    "##### Parte #1 - (Programación Orientada a Objetos): Genere una clase llamada ?my regresion? en Python puro (sin utilizar ninguna librería) que sea capaz de encontrar de forma analítica los coeficientes de una regresión lineal (β0 y β1). Su clase debe poseer los siguientes campos: β0, β1 los cuales representan los parámetros de la regresión, X y Y los cuales representan la lista de valores con los que se calcularon los parámetros de la regresíon."
   ]
  },
  {
   "cell_type": "code",
   "execution_count": 1,
   "metadata": {},
   "outputs": [],
   "source": [
    "class My_regresion():\n",
    "    #1. Constructor Principal:\n",
    "    def __init__ (self, x, y):\n",
    "        ab = [x*y for x,y in zip(x,y)]\n",
    "        bb = [x**2 for x in x]\n",
    "        self.b0 = ((len(ab)*sum(ab))-(sum(x)*sum(y)))/((len(ab)*sum(bb))-(sum(x)**2))\n",
    "        self.b1 = ((sum(y)*sum(bb))-(sum(x)*sum(ab)))/((len(ab)*sum(bb))-(sum(x)**2))\n",
    "        self.x = x\n",
    "        self.y = y\n",
    "    #2. Método Predict(Val):\n",
    "    def predict(self, val):\n",
    "        predictive = ((self.b0*val)+self.b1)\n",
    "        return predictive\n",
    "    #3. Método PredictN Val:\n",
    "    def predictN(self, vals):\n",
    "        predictiveN = [(self.b0*vals)+self.b1 for vals in vals]\n",
    "        return predictiveN\n",
    "    #4. Método r2():\n",
    "    def r2(self):\n",
    "        promedio_y = sum(self.y)/len(self.y)\n",
    "        num = [((((self.b0*(self.x))+self.b1)-(promedio_y))**2) for self.x in self.x]\n",
    "        den = [(((promedio_y)-self.y)**2) for self.y in self.y]\n",
    "        self.r2 = sum(num)/sum(den)\n",
    "        return self.r2\n",
    "    #5. Método r:\n",
    "    def r(self):\n",
    "        self.r = (self.r2**(0.5))\n",
    "        return self.r\n",
    "     #6. Método getAllRegParams():\n",
    "    def getAllParams(self):\n",
    "        dicc = {'b0':self.b0, 'b1':self.b1, 'r2':self.r2, 'r':self.r}\n",
    "        return dicc\n",
    "     #7. Constructor from file(fileName):\n",
    "    @classmethod\n",
    "    def from_file(cls, path):\n",
    "        file = open(path)\n",
    "        list1 = []\n",
    "        cfloat = []\n",
    "        y = []\n",
    "        x = []\n",
    "        for a in file:\n",
    "            list1.append(a.rstrip(\"\\r\\n\").split(\",\"))\n",
    "        list1.pop(0)\n",
    "        for n in list1:\n",
    "            cfloat.append([float(a) for a in n] )\n",
    "        for a in cfloat:\n",
    "            y.append(a[0])\n",
    "        for a in cfloat:\n",
    "            x.append(a[1])\n",
    "        return cls(x, y)"
   ]
  },
  {
   "cell_type": "markdown",
   "metadata": {},
   "source": [
    "## 7. Constructor from file(fileName):"
   ]
  },
  {
   "cell_type": "code",
   "execution_count": 2,
   "metadata": {},
   "outputs": [],
   "source": [
    "regresion = My_regresion.from_file(\"Advertising.csv\")"
   ]
  },
  {
   "cell_type": "markdown",
   "metadata": {},
   "source": [
    "## 2. Método Predict(Val):"
   ]
  },
  {
   "cell_type": "code",
   "execution_count": 3,
   "metadata": {},
   "outputs": [
    {
     "data": {
      "text/plain": [
       "16.470518140699443"
      ]
     },
     "execution_count": 3,
     "metadata": {},
     "output_type": "execute_result"
    }
   ],
   "source": [
    "regresion.predict(198.54)"
   ]
  },
  {
   "cell_type": "markdown",
   "metadata": {},
   "source": [
    "## 3. Método PredictN Val:"
   ]
  },
  {
   "cell_type": "code",
   "execution_count": 4,
   "metadata": {},
   "outputs": [
    {
     "data": {
      "text/plain": [
       "[8.45869276211831, 8.55376604298435, 7.840716436489054, 8.648839323850389]"
      ]
     },
     "execution_count": 4,
     "metadata": {},
     "output_type": "execute_result"
    }
   ],
   "source": [
    "milista=[30,32,17,34]\n",
    "regresion.predictN(milista)"
   ]
  },
  {
   "cell_type": "markdown",
   "metadata": {},
   "source": [
    "## 4. Método r2():"
   ]
  },
  {
   "cell_type": "code",
   "execution_count": 5,
   "metadata": {},
   "outputs": [
    {
     "data": {
      "text/plain": [
       "0.6118750508500685"
      ]
     },
     "execution_count": 5,
     "metadata": {},
     "output_type": "execute_result"
    }
   ],
   "source": [
    "regresion.r2()"
   ]
  },
  {
   "cell_type": "markdown",
   "metadata": {},
   "source": [
    "## 5. Método r:"
   ]
  },
  {
   "cell_type": "code",
   "execution_count": 6,
   "metadata": {},
   "outputs": [
    {
     "data": {
      "text/plain": [
       "0.7822244248616049"
      ]
     },
     "execution_count": 6,
     "metadata": {},
     "output_type": "execute_result"
    }
   ],
   "source": [
    "regresion.r()"
   ]
  },
  {
   "cell_type": "markdown",
   "metadata": {},
   "source": [
    "## 6. Método getAllRegParams():"
   ]
  },
  {
   "cell_type": "code",
   "execution_count": 7,
   "metadata": {},
   "outputs": [
    {
     "data": {
      "text/plain": [
       "{'b0': 0.04753664043301965,\n",
       " 'b1': 7.0325935491277205,\n",
       " 'r2': 0.6118750508500685,\n",
       " 'r': 0.7822244248616049}"
      ]
     },
     "execution_count": 7,
     "metadata": {},
     "output_type": "execute_result"
    }
   ],
   "source": [
    "regresion.getAllParams()"
   ]
  },
  {
   "cell_type": "markdown",
   "metadata": {},
   "source": [
    "## 7. Constructor from file(fileName):"
   ]
  },
  {
   "cell_type": "code",
   "execution_count": 8,
   "metadata": {},
   "outputs": [
    {
     "data": {
      "text/plain": [
       "{'b0': 0.04753664043301965,\n",
       " 'b1': 7.0325935491277205,\n",
       " 'x': 232.1,\n",
       " 'y': 13.4,\n",
       " 'r2': 0.6118750508500685,\n",
       " 'r': 0.7822244248616049}"
      ]
     },
     "execution_count": 8,
     "metadata": {},
     "output_type": "execute_result"
    }
   ],
   "source": [
    "regresion.__dict__"
   ]
  },
  {
   "cell_type": "code",
   "execution_count": null,
   "metadata": {},
   "outputs": [],
   "source": []
  }
 ],
 "metadata": {
  "kernelspec": {
   "display_name": "Python 3",
   "language": "python",
   "name": "python3"
  },
  "language_info": {
   "codemirror_mode": {
    "name": "ipython",
    "version": 3
   },
   "file_extension": ".py",
   "mimetype": "text/x-python",
   "name": "python",
   "nbconvert_exporter": "python",
   "pygments_lexer": "ipython3",
   "version": "3.8.5"
  }
 },
 "nbformat": 4,
 "nbformat_minor": 4
}
